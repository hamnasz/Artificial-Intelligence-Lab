{
 "cells": [
  {
   "cell_type": "markdown",
   "id": "aeaf7bda-f744-406d-99c2-b60de58e40af",
   "metadata": {},
   "source": [
    "# Helper function to draw the puzzle state"
   ]
  },
  {
   "cell_type": "code",
   "execution_count": 38,
   "id": "e82790d6-1963-4b78-82b7-f7f00a952faa",
   "metadata": {},
   "outputs": [],
   "source": [
    "def draw_puzzle(puzzle, step):\n",
    "    plt.imshow(np.zeros((3, 3)), cmap='gray')  # Create an empty grid\n",
    "    for i in range(3):\n",
    "        for j in range(3):\n",
    "            plt.text(j, i, str(puzzle[i][j]), fontsize=22, ha='center', va='center', color='blue')"
   ]
  },
  {
   "cell_type": "code",
   "execution_count": 39,
   "id": "7c7dabc1-d9d2-4216-9179-4817244851a3",
   "metadata": {},
   "outputs": [
    {
     "data": {
      "text/plain": [
       "Text(0.5, 1.0, 'Step 19')"
      ]
     },
     "execution_count": 39,
     "metadata": {},
     "output_type": "execute_result"
    },
    {
     "data": {
      "image/png": "[encoded data removed]",
      "text/plain": [
       "<Figure size 640x480 with 1 Axes>"
      ]
     },
     "metadata": {},
     "output_type": "display_data"
    }
   ],
   "source": [
    "    plt.title(f'Step {step}')"
   ]
  },
  {
   "cell_type": "code",
   "execution_count": 40,
   "id": "8f579074-8731-4a57-b174-9c7a14c9174b",
   "metadata": {},
   "outputs": [
    {
     "data": {
      "text/plain": [
       "([], [])"
      ]
     },
     "execution_count": 40,
     "metadata": {},
     "output_type": "execute_result"
    },
    {
     "data": {
      "image/png": "[encoded data removed]",
      "text/plain": [
       "<Figure size 640x480 with 1 Axes>"
      ]
     },
     "metadata": {},
     "output_type": "display_data"
    }
   ],
   "source": [
    "    plt.xticks([])  # Remove x-axis ticks"
   ]
  },
  {
   "cell_type": "code",
   "execution_count": 41,
   "id": "789041cb-b175-4df0-8d2e-8b125a02d98f",
   "metadata": {},
   "outputs": [
    {
     "data": {
      "text/plain": [
       "([], [])"
      ]
     },
     "execution_count": 41,
     "metadata": {},
     "output_type": "execute_result"
    },
    {
     "data": {
      "image/png": "[encoded data removed]",
      "text/plain": [
       "<Figure size 640x480 with 1 Axes>"
      ]
     },
     "metadata": {},
     "output_type": "display_data"
    }
   ],
   "source": [
    "    plt.yticks([])  # Remove y-axis ticks"
   ]
  },
  {
   "cell_type": "code",
   "execution_count": 42,
   "id": "860629eb-f652-469a-96b7-a73ed9abf166",
   "metadata": {},
   "outputs": [],
   "source": [
    "    plt.show()"
   ]
  },
  {
   "cell_type": "markdown",
   "id": "ab2b1156-b38b-430d-9a07-347f0b3cf674",
   "metadata": {},
   "source": [
    "# Function to check if the current state is solvable"
   ]
  },
  {
   "cell_type": "code",
   "execution_count": 43,
   "id": "efefeb3a-5785-4851-bc27-02abb0bf9081",
   "metadata": {},
   "outputs": [],
   "source": [
    "def is_solvable(puzzle):\n",
    "    flat_puzzle = [num for row in puzzle for num in row if num != 0]\n",
    "    inversions = 0\n",
    "    for i in range(len(flat_puzzle)):\n",
    "        for j in range(i + 1, len(flat_puzzle)):\n",
    "            if flat_puzzle[i] > flat_puzzle[j]:\n",
    "                inversions += 1\n",
    "    return inversions % 2 == 0"
   ]
  },
  {
   "cell_type": "markdown",
   "id": "ea1aabfd-d914-4a09-89c3-87b8ab995375",
   "metadata": {},
   "source": [
    "# A* algorithm for solving the 8-puzzle problem"
   ]
  },
  {
   "cell_type": "code",
   "execution_count": 44,
   "id": "de47099e-6601-487c-a458-83ac3175413f",
   "metadata": {},
   "outputs": [],
   "source": [
    "def a_star(initial_state):\n",
    "    def h(state):\n",
    "        # Manhattan distance heuristic\n",
    "        distance = 0\n",
    "        for i in range(3):\n",
    "            for j in range(3):\n",
    "                num = state[i][j]\n",
    "                if num != 0:\n",
    "                    correct_i, correct_j = divmod(num - 1, 3)\n",
    "                    distance += abs(i - correct_i) + abs(j - correct_j)\n",
    "        return distance"
   ]
  },
  {
   "cell_type": "code",
   "execution_count": 46,
   "id": "e21bf0e6-8188-4b5c-8b10-64d2fa63c5b2",
   "metadata": {},
   "outputs": [
    {
     "ename": "IndentationError",
     "evalue": "unindent does not match any outer indentation level (<string>, line 16)",
     "output_type": "error",
     "traceback": [
      "\u001b[1;36m  File \u001b[1;32m<string>:16\u001b[1;36m\u001b[0m\n\u001b[1;33m    start_state = initial_state\u001b[0m\n\u001b[1;37m                               ^\u001b[0m\n\u001b[1;31mIndentationError\u001b[0m\u001b[1;31m:\u001b[0m unindent does not match any outer indentation level\n"
     ]
    }
   ],
   "source": [
    "def neighbors(state):\n",
    "        # Find the empty spot (represented by 0)\n",
    "        for i in range(3):\n",
    "            for j in range(3):\n",
    "                if state[i][j] == 0:\n",
    "                    empty_i, empty_j = i, j\n",
    "                    break\n",
    "        # Generate valid moves (up, down, left, right)\n",
    "        for di, dj in [(-1, 0), (1, 0), (0, -1), (0, 1)]:\n",
    "            new_i, new_j = empty_i + di, empty_j + dj\n",
    "            if 0 <= new_i < 3 and 0 <= new_j < 3:\n",
    "                new_state = deepcopy(state)\n",
    "                new_state[empty_i][empty_j], new_state[new_i][new_j] = new_state[new_i][new_j], new_state[empty_i][empty_j]\n",
    "                yield new_state\n",
    "\n",
    "    start_state = initial_state\n",
    "    goal_state = [[1, 2, 3], [4, 5, 6], [7, 8, 0]]\n",
    "\n",
    "    # Priority queue for A* search (cost, state, steps taken)\n",
    "    pq = PriorityQueue()\n",
    "    pq.put((h(start_state), 0, start_state, []))  # (cost, g, state, path)\n",
    "    seen = set()\n",
    "\n",
    "    while not pq.empty():\n",
    "        _, g, current_state, path = pq.get()\n",
    "\n",
    "        if current_state == goal_state:\n",
    "            return path + [current_state]\n",
    "\n",
    "        seen.add(tuple(map(tuple, current_state)))\n",
    "\n",
    "        for neighbor in neighbors(current_state):\n",
    "            if tuple(map(tuple, neighbor)) not in seen:\n",
    "                pq.put((g + 1 + h(neighbor), g + 1, neighbor, path + [current_state]))\n",
    "\n",
    "# Randomly shuffle the puzzle\n",
    "def random_puzzle():\n",
    "    puzzle = [[1, 2, 3], [4, 5, 6], [7, 8, 0]]\n",
    "    while True:\n",
    "        random.shuffle(puzzle)\n",
    "        if is_solvable(puzzle):\n",
    "            return puzzle\n",
    "\n",
    "# Initialize a random 8-puzzle\n",
    "initial_puzzle = random_puzzle()\n",
    "\n",
    "# Visualize the initial puzzle state\n",
    "draw_puzzle(initial_puzzle, 0)\n",
    "\n",
    "# Solve the puzzle and visualize each step\n",
    "solution_path = a_star(initial_puzzle)\n",
    "for step, state in enumerate(solution_path):\n",
    "    draw_puzzle(state, step + 1)"
   ]
  },
  {
   "cell_type": "code",
   "execution_count": null,
   "id": "08ef709a-fa84-4012-8b44-d0229c0395d6",
   "metadata": {},
   "outputs": [],
   "source": []
  },
  {
   "cell_type": "code",
   "execution_count": null,
   "id": "a7812fe3-4bdf-444e-be12-279907ad3cb0",
   "metadata": {},
   "outputs": [],
   "source": []
  }
 ],
 "metadata": {
  "kernelspec": {
   "display_name": "Python 3 (ipykernel)",
   "language": "python",
   "name": "python3"
  },
  "language_info": {
   "codemirror_mode": {
    "name": "ipython",
    "version": 3
   },
   "file_extension": ".py",
   "mimetype": "text/x-python",
   "name": "python",
   "nbconvert_exporter": "python",
   "pygments_lexer": "ipython3",
   "version": "3.12.4"
  }
 },
 "nbformat": 4,
 "nbformat_minor": 5
}

{
 "cells": [
  {
   "cell_type": "code",
   "execution_count": 10,
   "id": "882c4b9a-a90b-427d-8766-57f4e903b78f",
   "metadata": {},
   "outputs": [
    {
     "name": "stdin",
     "output_type": "stream",
     "text": [
      " 100\n"
     ]
    }
   ],
   "source": [
    "user = int (input ())"
   ]
  },
  {
   "cell_type": "code",
   "execution_count": 9,
   "id": "d3d883ed-859d-4d6f-9013-fc6e4ddd4704",
   "metadata": {},
   "outputs": [
    {
     "name": "stdin",
     "output_type": "stream",
     "text": [
      "Enter name of your city fsd\n"
     ]
    },
    {
     "data": {
      "text/plain": [
       "'fsd'"
      ]
     },
     "execution_count": 9,
     "metadata": {},
     "output_type": "execute_result"
    }
   ],
   "source": [
    "input('Enter name of your city')"
   ]
  },
  {
   "cell_type": "code",
   "execution_count": null,
   "id": "24c83460-d934-4fce-92de-aff05357e902",
   "metadata": {},
   "outputs": [],
   "source": [
    "print(user)"
   ]
  },
  {
   "cell_type": "code",
   "execution_count": 11,
   "id": "3baf9aad-3064-4bc2-acda-0dec789ddbc8",
   "metadata": {},
   "outputs": [
    {
     "data": {
      "text/plain": [
       "int"
      ]
     },
     "execution_count": 11,
     "metadata": {},
     "output_type": "execute_result"
    }
   ],
   "source": [
    "type(user)"
   ]
  },
  {
   "cell_type": "code",
   "execution_count": 16,
   "id": "42ea4750-ae4c-4283-91ac-9d5dbeb31587",
   "metadata": {},
   "outputs": [
    {
     "name": "stdin",
     "output_type": "stream",
     "text": [
      "a =  3\n",
      "b = 6\n"
     ]
    }
   ],
   "source": [
    "a = int (input('a = '))\n",
    "b = int (input('b = '))"
   ]
  },
  {
   "cell_type": "code",
   "execution_count": 17,
   "id": "babbe544-4711-48da-ba31-532b3992a120",
   "metadata": {},
   "outputs": [
    {
     "name": "stdout",
     "output_type": "stream",
     "text": [
      "9\n"
     ]
    }
   ],
   "source": [
    "print (a + b)"
   ]
  },
  {
   "cell_type": "code",
   "execution_count": 26,
   "id": "09fbce0a-e6fc-4e40-8930-f442a4b3a4ee",
   "metadata": {},
   "outputs": [
    {
     "data": {
      "text/plain": [
       "'my name is hamna'"
      ]
     },
     "execution_count": 26,
     "metadata": {},
     "output_type": "execute_result"
    }
   ],
   "source": [
    "user = 'My Name is HAMNA'\n",
    "user.lower()"
   ]
  },
  {
   "cell_type": "code",
   "execution_count": 25,
   "id": "ea0aad1d-8ec5-4916-87dc-5e444eba98c0",
   "metadata": {},
   "outputs": [
    {
     "data": {
      "text/plain": [
       "'MY NAME IS HAMNA'"
      ]
     },
     "execution_count": 25,
     "metadata": {},
     "output_type": "execute_result"
    }
   ],
   "source": [
    "user.upper()"
   ]
  },
  {
   "cell_type": "code",
   "execution_count": 29,
   "id": "24d982b0-e2b6-4a9e-850a-30363af49cd0",
   "metadata": {},
   "outputs": [
    {
     "data": {
      "text/plain": [
       "'mY nAME IS hamna'"
      ]
     },
     "execution_count": 29,
     "metadata": {},
     "output_type": "execute_result"
    }
   ],
   "source": [
    "user.swapcase()"
   ]
  },
  {
   "cell_type": "code",
   "execution_count": 32,
   "id": "6876b5de-712d-483c-89f0-cab506d438a4",
   "metadata": {},
   "outputs": [
    {
     "name": "stdin",
     "output_type": "stream",
     "text": [
      " I live In Faisalabad\n"
     ]
    },
    {
     "data": {
      "text/plain": [
       "'i LIVE iN fAISALABAD'"
      ]
     },
     "execution_count": 32,
     "metadata": {},
     "output_type": "execute_result"
    }
   ],
   "source": [
    "a = input()"
   ]
  },
  {
   "cell_type": "code",
   "execution_count": 33,
   "id": "88401c57-2c23-42a3-82bf-93b4770cd555",
   "metadata": {},
   "outputs": [
    {
     "data": {
      "text/plain": [
       "'i live in faisalabad'"
      ]
     },
     "execution_count": 33,
     "metadata": {},
     "output_type": "execute_result"
    }
   ],
   "source": [
    "a.lower()"
   ]
  },
  {
   "cell_type": "code",
   "execution_count": 34,
   "id": "e972368a-b7c9-4359-b540-7f76260acab9",
   "metadata": {},
   "outputs": [
    {
     "data": {
      "text/plain": [
       "'I LIVE IN FAISALABAD'"
      ]
     },
     "execution_count": 34,
     "metadata": {},
     "output_type": "execute_result"
    }
   ],
   "source": [
    "a.upper()"
   ]
  },
  {
   "cell_type": "code",
   "execution_count": 35,
   "id": "f364f720-ef42-47f5-ae68-b7194899b247",
   "metadata": {},
   "outputs": [
    {
     "data": {
      "text/plain": [
       "'i LIVE iN fAISALABAD'"
      ]
     },
     "execution_count": 35,
     "metadata": {},
     "output_type": "execute_result"
    }
   ],
   "source": [
    "a.swapcase()"
   ]
  },
  {
   "cell_type": "code",
   "execution_count": 39,
   "id": "9ad1fdab-055f-42a2-ad13-2b996af04b7c",
   "metadata": {},
   "outputs": [
    {
     "name": "stdout",
     "output_type": "stream",
     "text": [
      "20\n"
     ]
    }
   ],
   "source": [
    "print(len(a))"
   ]
  },
  {
   "cell_type": "code",
   "execution_count": 51,
   "id": "61027cc4-8c04-4b49-b078-2ee87e611d85",
   "metadata": {},
   "outputs": [
    {
     "name": "stdout",
     "output_type": "stream",
     "text": [
      "1\n"
     ]
    }
   ],
   "source": [
    "c = 'My name is my Identity'\n",
    "print(c.count('my'))"
   ]
  },
  {
   "cell_type": "code",
   "execution_count": 52,
   "id": "61d89ea0-6036-4288-a019-8ce65a5d0c2b",
   "metadata": {},
   "outputs": [
    {
     "data": {
      "text/plain": [
       "'My Name Is Hamna'"
      ]
     },
     "execution_count": 52,
     "metadata": {},
     "output_type": "execute_result"
    }
   ],
   "source": [
    "user.title()"
   ]
  },
  {
   "cell_type": "code",
   "execution_count": null,
   "id": "4a73e32b-1a48-4ab4-90aa-a318cd87e19d",
   "metadata": {},
   "outputs": [],
   "source": []
  }
 ],
 "metadata": {
  "kernelspec": {
   "display_name": "Python 3 (ipykernel)",
   "language": "python",
   "name": "python3"
  },
  "language_info": {
   "codemirror_mode": {
    "name": "ipython",
    "version": 3
   },
   "file_extension": ".py",
   "mimetype": "text/x-python",
   "name": "python",
   "nbconvert_exporter": "python",
   "pygments_lexer": "ipython3",
   "version": "3.12.4"
  }
 },
 "nbformat": 4,
 "nbformat_minor": 5
}

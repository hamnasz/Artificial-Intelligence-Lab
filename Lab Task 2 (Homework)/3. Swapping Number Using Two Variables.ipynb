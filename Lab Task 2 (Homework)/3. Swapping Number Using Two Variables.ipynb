{
 "cells": [
  {
   "cell_type": "markdown",
   "id": "062c9f30-9d97-4968-a03f-f4c49068dfb5",
   "metadata": {},
   "source": [
    "## Swaping Numbers Using Two Variables"
   ]
  },
  {
   "cell_type": "code",
   "execution_count": 1,
   "id": "fe8e7ff3-1577-4bf2-998b-0052d09afbcc",
   "metadata": {},
   "outputs": [
    {
     "name": "stdin",
     "output_type": "stream",
     "text": [
      "Enter the first number:  4\n",
      "Enter the second number:  6\n"
     ]
    }
   ],
   "source": [
    "a = int(input(\"Enter the first number: \"))\n",
    "b = int(input(\"Enter the second number: \"))"
   ]
  },
  {
   "cell_type": "code",
   "execution_count": 2,
   "id": "3349a839-57e8-471c-9d5b-69a93dbf3da7",
   "metadata": {},
   "outputs": [
    {
     "name": "stdout",
     "output_type": "stream",
     "text": [
      "Before swapping: a = 4, b = 6\n"
     ]
    }
   ],
   "source": [
    "print(\"Before swapping: a = {}, b = {}\".format(a, b))"
   ]
  },
  {
   "cell_type": "code",
   "execution_count": 3,
   "id": "11154d34-ccca-478f-8e8d-f7dbb703bed2",
   "metadata": {},
   "outputs": [],
   "source": [
    "a = a + b\n",
    "b = a - b\n",
    "a = a - b"
   ]
  },
  {
   "cell_type": "code",
   "execution_count": 4,
   "id": "af39de4a-6530-4a9b-b887-0d974bd8acd2",
   "metadata": {},
   "outputs": [
    {
     "name": "stdout",
     "output_type": "stream",
     "text": [
      "After swapping: a = 6, b = 4\n"
     ]
    }
   ],
   "source": [
    "print(\"After swapping: a = {}, b = {}\".format(a, b))"
   ]
  }
 ],
 "metadata": {
  "kernelspec": {
   "display_name": "Python 3 (ipykernel)",
   "language": "python",
   "name": "python3"
  },
  "language_info": {
   "codemirror_mode": {
    "name": "ipython",
    "version": 3
   },
   "file_extension": ".py",
   "mimetype": "text/x-python",
   "name": "python",
   "nbconvert_exporter": "python",
   "pygments_lexer": "ipython3",
   "version": "3.12.4"
  }
 },
 "nbformat": 4,
 "nbformat_minor": 5
}

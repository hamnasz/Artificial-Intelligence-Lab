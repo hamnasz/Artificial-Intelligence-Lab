{
 "cells": [
  {
   "cell_type": "markdown",
   "id": "d2eca79c-10c2-484e-8302-79024607142f",
   "metadata": {},
   "source": [
    "## Display Table"
   ]
  },
  {
   "cell_type": "code",
   "execution_count": 7,
   "id": "6dcb45b9-f74d-42b5-b8cb-76288c7709fd",
   "metadata": {},
   "outputs": [
    {
     "name": "stdin",
     "output_type": "stream",
     "text": [
      "Enter a Number:  3\n"
     ]
    }
   ],
   "source": [
    "a = int(input('Enter a Number: '))\n",
    "i = 1"
   ]
  },
  {
   "cell_type": "code",
   "execution_count": 8,
   "id": "3914e1ac-0d81-4e5e-b200-766c66ee3513",
   "metadata": {},
   "outputs": [
    {
     "name": "stdout",
     "output_type": "stream",
     "text": [
      "3  x  1  =  3\n",
      "3  x  2  =  6\n",
      "3  x  3  =  9\n",
      "3  x  4  =  12\n",
      "3  x  5  =  15\n",
      "3  x  6  =  18\n",
      "3  x  7  =  21\n",
      "3  x  8  =  24\n",
      "3  x  9  =  27\n",
      "3  x  10  =  30\n"
     ]
    }
   ],
   "source": [
    "while i<=10:\n",
    "    print (a, ' x ', i, ' = ', i*a)\n",
    "    i+=1"
   ]
  },
  {
   "cell_type": "code",
   "execution_count": null,
   "id": "eb45e6b3-aa8d-474d-acb5-43d2eb279a3e",
   "metadata": {},
   "outputs": [],
   "source": []
  }
 ],
 "metadata": {
  "kernelspec": {
   "display_name": "Python 3 (ipykernel)",
   "language": "python",
   "name": "python3"
  },
  "language_info": {
   "codemirror_mode": {
    "name": "ipython",
    "version": 3
   },
   "file_extension": ".py",
   "mimetype": "text/x-python",
   "name": "python",
   "nbconvert_exporter": "python",
   "pygments_lexer": "ipython3",
   "version": "3.12.4"
  }
 },
 "nbformat": 4,
 "nbformat_minor": 5
}

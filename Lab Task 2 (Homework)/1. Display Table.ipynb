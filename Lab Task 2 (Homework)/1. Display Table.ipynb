{
 "cells": [
  {
   "cell_type": "markdown",
   "id": "d2eca79c-10c2-484e-8302-79024607142f",
   "metadata": {},
   "source": [
    "# Display Table"
   ]
  },
  {
   "cell_type": "code",
   "execution_count": 1,
   "id": "6dcb45b9-f74d-42b5-b8cb-76288c7709fd",
   "metadata": {},
   "outputs": [
    {
     "name": "stdin",
     "output_type": "stream",
     "text": [
      "Enter a Number:  9\n"
     ]
    }
   ],
   "source": [
    "a = int(input('Enter a Number: '))\n",
    "i = 1"
   ]
  },
  {
   "cell_type": "markdown",
   "id": "0bf139b4-5dd7-4919-91da-6ec4ef1d1a7f",
   "metadata": {},
   "source": [
    "### With While Loop"
   ]
  },
  {
   "cell_type": "code",
   "execution_count": 2,
   "id": "3914e1ac-0d81-4e5e-b200-766c66ee3513",
   "metadata": {},
   "outputs": [
    {
     "name": "stdout",
     "output_type": "stream",
     "text": [
      "9  x  1  =  9\n",
      "9  x  2  =  18\n",
      "9  x  3  =  27\n",
      "9  x  4  =  36\n",
      "9  x  5  =  45\n",
      "9  x  6  =  54\n",
      "9  x  7  =  63\n",
      "9  x  8  =  72\n",
      "9  x  9  =  81\n",
      "9  x  10  =  90\n"
     ]
    }
   ],
   "source": [
    "while i<=10:\n",
    "    print (a, ' x ', i, ' = ', i*a)\n",
    "    i+=1"
   ]
  },
  {
   "cell_type": "markdown",
   "id": "e1153a77-cb6f-44e2-9587-8c8ada288d32",
   "metadata": {},
   "source": [
    "### With For Loop"
   ]
  },
  {
   "cell_type": "code",
   "execution_count": 3,
   "id": "eb45e6b3-aa8d-474d-acb5-43d2eb279a3e",
   "metadata": {},
   "outputs": [
    {
     "name": "stdout",
     "output_type": "stream",
     "text": [
      "9 x 1 = 9\n",
      "9 x 2 = 18\n",
      "9 x 3 = 27\n",
      "9 x 4 = 36\n",
      "9 x 5 = 45\n",
      "9 x 6 = 54\n",
      "9 x 7 = 63\n",
      "9 x 8 = 72\n",
      "9 x 9 = 81\n",
      "9 x 10 = 90\n"
     ]
    }
   ],
   "source": [
    "for i in range(1, 11):\n",
    "    print(a, 'x', i, '=', i * a)"
   ]
  }
 ],
 "metadata": {
  "kernelspec": {
   "display_name": "Python 3 (ipykernel)",
   "language": "python",
   "name": "python3"
  },
  "language_info": {
   "codemirror_mode": {
    "name": "ipython",
    "version": 3
   },
   "file_extension": ".py",
   "mimetype": "text/x-python",
   "name": "python",
   "nbconvert_exporter": "python",
   "pygments_lexer": "ipython3",
   "version": "3.12.4"
  }
 },
 "nbformat": 4,
 "nbformat_minor": 5
}

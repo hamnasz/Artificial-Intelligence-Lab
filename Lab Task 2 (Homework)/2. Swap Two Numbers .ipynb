{
 "cells": [
  {
   "cell_type": "markdown",
   "id": "43744d7c-d257-429e-83b6-be7722fd6861",
   "metadata": {},
   "source": [
    "## Swap Two Numbers\n",
    "This is a simple method in which I just changed tha values of variables (No Logic Swapping)"
   ]
  },
  {
   "cell_type": "code",
   "execution_count": 1,
   "id": "17c0d3dc-d177-468f-ba2f-486340f73038",
   "metadata": {},
   "outputs": [
    {
     "name": "stdin",
     "output_type": "stream",
     "text": [
      "Enter first Number:  2\n",
      "Enter second Number:  5\n"
     ]
    }
   ],
   "source": [
    "a = int(input('Enter first Number: '))\n",
    "b = int(input('Enter second Number: '))"
   ]
  },
  {
   "cell_type": "code",
   "execution_count": 5,
   "id": "e1e44e33-a0c9-4161-94cd-50a2db614c53",
   "metadata": {},
   "outputs": [
    {
     "name": "stdout",
     "output_type": "stream",
     "text": [
      "Before Swapping First Number =  2 , Second Number =  5\n"
     ]
    }
   ],
   "source": [
    "print('Before Swapping First Number = ', a, ', Second Number = ', b)"
   ]
  },
  {
   "cell_type": "code",
   "execution_count": 6,
   "id": "59717dcb-2ed4-42eb-ba6e-a23b9aea6588",
   "metadata": {},
   "outputs": [
    {
     "name": "stdout",
     "output_type": "stream",
     "text": [
      "After Swapping First Number =  5 , Second Number =  2\n"
     ]
    }
   ],
   "source": [
    "print('After Swapping First Number = ', b, ', Second Number = ', a)"
   ]
  },
  {
   "cell_type": "markdown",
   "id": "204337ef-6e22-4033-988f-6964e3cc0764",
   "metadata": {},
   "source": [
    "## Logically Swapping Two Numbers"
   ]
  },
  {
   "cell_type": "code",
   "execution_count": 2,
   "id": "ec9391d8-0d2e-4c2f-ab83-ec52c800bef2",
   "metadata": {},
   "outputs": [
    {
     "name": "stdin",
     "output_type": "stream",
     "text": [
      "Enter first Number:  3\n",
      "Enter second Number:  8\n"
     ]
    }
   ],
   "source": [
    "a = int(input('Enter first Number: '))\n",
    "b = int(input('Enter second Number: '))"
   ]
  },
  {
   "cell_type": "code",
   "execution_count": 3,
   "id": "8bc67630-3271-46f1-9dd5-a155d11201da",
   "metadata": {},
   "outputs": [],
   "source": [
    "temp = a\n",
    "a = b\n",
    "b = temp"
   ]
  },
  {
   "cell_type": "markdown",
   "id": "669c1bcc-7057-4fb1-9087-5425fced2997",
   "metadata": {},
   "source": [
    "### Simple Printing method\n",
    "If we want to print it in more simplest form then it is "
   ]
  },
  {
   "cell_type": "code",
   "execution_count": 4,
   "id": "c5b70b8f-6ab7-47d9-b3ac-21e77fb9eb73",
   "metadata": {},
   "outputs": [
    {
     "name": "stdout",
     "output_type": "stream",
     "text": [
      "After swapping:\n",
      "First Number = 8\n",
      "Second Number = 3\n"
     ]
    }
   ],
   "source": [
    "print(\"After swapping:\")\n",
    "print(\"First Number =\", a)\n",
    "print(\"Second Number =\", b)"
   ]
  },
  {
   "cell_type": "markdown",
   "id": "d78748a4-4413-4ef8-a470-d4d9e97acd60",
   "metadata": {},
   "source": [
    "### String Formatting Method\n",
    "Specifically, this method is known as str.format(). \n",
    "It allows you to create formatted strings by placing placeholders (curly braces {}) \n",
    "in the string, which are then replaced by the values passed to the format() method.\n",
    "You can place 0 and 1 also in the brackets"
   ]
  },
  {
   "cell_type": "code",
   "execution_count": 10,
   "id": "38368713-5352-45bd-855a-7c9c8d681d45",
   "metadata": {},
   "outputs": [
    {
     "name": "stdout",
     "output_type": "stream",
     "text": [
      "After swapping: First Number = 6, Second Number = 3\n"
     ]
    }
   ],
   "source": [
    "print(\"After swapping: First Number = {}, Second Number = {}\".format(a, b))"
   ]
  }
 ],
 "metadata": {
  "kernelspec": {
   "display_name": "Python 3 (ipykernel)",
   "language": "python",
   "name": "python3"
  },
  "language_info": {
   "codemirror_mode": {
    "name": "ipython",
    "version": 3
   },
   "file_extension": ".py",
   "mimetype": "text/x-python",
   "name": "python",
   "nbconvert_exporter": "python",
   "pygments_lexer": "ipython3",
   "version": "3.12.4"
  }
 },
 "nbformat": 4,
 "nbformat_minor": 5
}

{
 "cells": [
  {
   "cell_type": "code",
   "execution_count": null,
   "id": "e14f7245-1107-4b01-8077-204796a51fa2",
   "metadata": {},
   "outputs": [],
   "source": [
    "import pandas as pd"
   ]
  },
  {
   "cell_type": "code",
   "execution_count": null,
   "id": "e7d44ce1-51e2-449c-a7da-74b0d54001b1",
   "metadata": {},
   "outputs": [],
   "source": [
    "df = pd.read_csv('data.csv')"
   ]
  },
  {
   "cell_type": "code",
   "execution_count": null,
   "id": "01543505-ae88-43b3-942e-1465ded03ff1",
   "metadata": {},
   "outputs": [],
   "source": [
    "df.head()"
   ]
  },
  {
   "cell_type": "code",
   "execution_count": null,
   "id": "41c3d1f5-99bf-4e19-b4d0-a2af1705f61e",
   "metadata": {},
   "outputs": [],
   "source": [
    "df.shape"
   ]
  },
  {
   "cell_type": "code",
   "execution_count": null,
   "id": "0e8a9d96-c8c5-4524-af36-f86103ce4b5b",
   "metadata": {},
   "outputs": [],
   "source": [
    "df.info()"
   ]
  },
  {
   "cell_type": "code",
   "execution_count": null,
   "id": "10c7b674-c8d5-4a5a-a15b-89b0d3eca53b",
   "metadata": {},
   "outputs": [],
   "source": [
    "df.isnull()"
   ]
  },
  {
   "cell_type": "code",
   "execution_count": null,
   "id": "ed947b0a-2859-4e69-b858-21588dca1cf1",
   "metadata": {},
   "outputs": [],
   "source": [
    "df.isnull().sum()"
   ]
  },
  {
   "cell_type": "code",
   "execution_count": null,
   "id": "fb29fbdb-0859-4300-9769-f865c33540e6",
   "metadata": {},
   "outputs": [],
   "source": [
    "for col in df.select_dtypes(include=['object']).columns:\n",
    "    df[col] = df[col].astype('category')\n",
    "df.dtypes"
   ]
  },
  {
   "cell_type": "code",
   "execution_count": null,
   "id": "ac6e7035-c883-4a16-b35d-928ca9136cf0",
   "metadata": {},
   "outputs": [],
   "source": [
    "df.describe().T"
   ]
  },
  {
   "cell_type": "code",
   "execution_count": null,
   "id": "9c6ce121-183c-4657-8253-7b27493c01db",
   "metadata": {},
   "outputs": [],
   "source": [
    "df.groupby('BASEL_BBQ_weather').mean()"
   ]
  },
  {
   "cell_type": "code",
   "execution_count": null,
   "id": "1e650d22-d48e-4168-ac6c-47217ef8fd84",
   "metadata": {},
   "outputs": [],
   "source": [
    "is_present = True in df['BASEL_BBQ_weather'].values\n",
    "is_present"
   ]
  },
  {
   "cell_type": "code",
   "execution_count": null,
   "id": "450da206-b22f-4734-a475-6b284d0793d4",
   "metadata": {},
   "outputs": [],
   "source": [
    "value_at_index = df.iloc[5]\n",
    "value_at_index"
   ]
  }
 ],
 "metadata": {
  "kernelspec": {
   "display_name": "Python 3 (ipykernel)",
   "language": "python",
   "name": "python3"
  },
  "language_info": {
   "codemirror_mode": {
    "name": "ipython",
    "version": 3
   },
   "file_extension": ".py",
   "mimetype": "text/x-python",
   "name": "python",
   "nbconvert_exporter": "python",
   "pygments_lexer": "ipython3",
   "version": "3.12.4"
  }
 },
 "nbformat": 4,
 "nbformat_minor": 5
}

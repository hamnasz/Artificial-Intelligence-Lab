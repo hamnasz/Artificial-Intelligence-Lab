{
 "cells": [
  {
   "cell_type": "markdown",
   "id": "e9d4ad44-78f0-406d-837a-b49bd1bbf538",
   "metadata": {},
   "source": [
    "# Preprocessing and DataFrames\r\n",
    "\r\n",
    "## Preprocessin\n",
    "Preprocessing is the process of cleaning and organizing raw data before using it for analysis or machine learning. The main goal is to improve the quality of the data so it can be effectively used for modeling and analysis.s. Common preprocessing steps include:\r\n",
    "\r\n",
    "1. **Handling Missing Data**: Filling in or removing missing values.\r\n",
    "2. **Data Normalization/Standardization**: Scaling features to have consistent ranges.\r\n",
    "3. **Data Cleaning**: Removing duplicates, correcting errors, or addressing outliers.\r\n",
    "4. **Encoding Categorical Variables**: Converting categories into numerical form (e.g., one-hot encoding or label encoding).\r\n",
    "5. **Feature Selection/Engineering**: Selecting or creating new features that improve model performnce.\r\n",
    "\r\n",
    "### \n",
    "DataFrames are two-dimensional, labeled data structures commonly used in data analysis. They are like tables or spreadsheets and are particularly powerful for handling structured data. Each column in a DataFrame can be of a different data type (e.g., integers, floats, strings).ts, strings).\r\n",
    "\r\n",
    "In Python, DataFrames are primarily used with the **pandas** library. Key characteristics of DataFrames include:\r\n",
    "\r\n",
    "- They consist of rows and columns, where each column represents a feature or variable, and each row represents an observation or record.\r\n",
    "- DataFrames provide powerful operations to filter, group, merge, and aggregate data efficiently.\r\n",
    "- They can be created from various sources, such as CSV files, databases, or raw data stored in lists or diction\r\n",
    "\r\n",
    "Below is an example of creating and using a DataFrame with pandas:\r\n",
    "\r\n",
    "```python\r\n",
    "import pandas as pd\r\n",
    "\r\n",
    "# Creating a DataFrame\r\n",
    "data = {\r\n",
    "    'Name': ['Hamna', 'Fizza', 'Yumna'],\r\n",
    "    'Age': [19, 20, 21],\r\n",
    "    'City': ['Islamabad', 'Faisalabad', 'Multan']\r\n",
    "}\r\n",
    "\r\n",
    "df = pd.DataFrame(data)\r\n",
    "\r\n",
    "# Display the DataFrame\r\n",
    "print(df)\r\n",
    "\r\n",
    "# Access a column\r\n",
    "print(df['Age'])\r\n",
    "\r\n",
    "# Filter rows\r\n",
    "filtered_df = df[df['Age'] > 20]\r\n",
    "print(filtered_df)\r\n",
    "_df = df[df['Age'] > 28]\r\n",
    "print(filtered_df)\r\n"
   ]
  },
  {
   "cell_type": "code",
   "execution_count": 7,
   "id": "a96a1c6b-3b59-4148-a061-2d16e9ae0c01",
   "metadata": {},
   "outputs": [],
   "source": [
    "import pandas as pd"
   ]
  },
  {
   "cell_type": "markdown",
   "id": "5bd5f79b-0168-446c-bd9f-d4b2c202f30e",
   "metadata": {},
   "source": [
    "# Read CSV file into pandas DataFrame"
   ]
  },
  {
   "cell_type": "code",
   "execution_count": 8,
   "id": "6aed44a0-bb68-41ab-93a8-24297c675707",
   "metadata": {},
   "outputs": [],
   "source": [
    "df = pd.read_csv('data.csv')"
   ]
  },
  {
   "cell_type": "markdown",
   "id": "1ee8ec48-015a-4657-84a0-285ac610157c",
   "metadata": {},
   "source": [
    "## This Will show first 5 Rows Dataset"
   ]
  },
  {
   "cell_type": "code",
   "execution_count": 9,
   "id": "e4d3417c-ac46-41ac-aad8-c2aecb75e779",
   "metadata": {},
   "outputs": [
    {
     "data": {
      "text/html": [
       "<div>\n",
       "<style scoped>\n",
       "    .dataframe tbody tr th:only-of-type {\n",
       "        vertical-align: middle;\n",
       "    }\n",
       "\n",
       "    .dataframe tbody tr th {\n",
       "        vertical-align: top;\n",
       "    }\n",
       "\n",
       "    .dataframe thead th {\n",
       "        text-align: right;\n",
       "    }\n",
       "</style>\n",
       "<table border=\"1\" class=\"dataframe\">\n",
       "  <thead>\n",
       "    <tr style=\"text-align: right;\">\n",
       "      <th></th>\n",
       "      <th>Month</th>\n",
       "      <th>Python Worldwide(%)</th>\n",
       "      <th>JavaScript Worldwide(%)</th>\n",
       "      <th>Java Worldwide(%)</th>\n",
       "      <th>C# Worldwide(%)</th>\n",
       "      <th>PhP Worldwide(%)</th>\n",
       "      <th>Flutter Worldwide(%)</th>\n",
       "      <th>React Worldwide(%)</th>\n",
       "      <th>Swift Worldwide(%)</th>\n",
       "      <th>TypeScript Worldwide(%)</th>\n",
       "      <th>Matlab Worldwide(%)</th>\n",
       "    </tr>\n",
       "  </thead>\n",
       "  <tbody>\n",
       "    <tr>\n",
       "      <th>0</th>\n",
       "      <td>2004-01</td>\n",
       "      <td>30</td>\n",
       "      <td>98</td>\n",
       "      <td>96</td>\n",
       "      <td>76</td>\n",
       "      <td>100</td>\n",
       "      <td>6</td>\n",
       "      <td>1</td>\n",
       "      <td>9</td>\n",
       "      <td>2</td>\n",
       "      <td>78</td>\n",
       "    </tr>\n",
       "    <tr>\n",
       "      <th>1</th>\n",
       "      <td>2004-02</td>\n",
       "      <td>29</td>\n",
       "      <td>98</td>\n",
       "      <td>97</td>\n",
       "      <td>86</td>\n",
       "      <td>99</td>\n",
       "      <td>6</td>\n",
       "      <td>2</td>\n",
       "      <td>9</td>\n",
       "      <td>1</td>\n",
       "      <td>91</td>\n",
       "    </tr>\n",
       "    <tr>\n",
       "      <th>2</th>\n",
       "      <td>2004-03</td>\n",
       "      <td>28</td>\n",
       "      <td>100</td>\n",
       "      <td>100</td>\n",
       "      <td>87</td>\n",
       "      <td>97</td>\n",
       "      <td>5</td>\n",
       "      <td>2</td>\n",
       "      <td>9</td>\n",
       "      <td>2</td>\n",
       "      <td>99</td>\n",
       "    </tr>\n",
       "    <tr>\n",
       "      <th>3</th>\n",
       "      <td>2004-04</td>\n",
       "      <td>28</td>\n",
       "      <td>98</td>\n",
       "      <td>97</td>\n",
       "      <td>89</td>\n",
       "      <td>100</td>\n",
       "      <td>6</td>\n",
       "      <td>1</td>\n",
       "      <td>9</td>\n",
       "      <td>2</td>\n",
       "      <td>95</td>\n",
       "    </tr>\n",
       "    <tr>\n",
       "      <th>4</th>\n",
       "      <td>2004-05</td>\n",
       "      <td>28</td>\n",
       "      <td>91</td>\n",
       "      <td>99</td>\n",
       "      <td>84</td>\n",
       "      <td>92</td>\n",
       "      <td>6</td>\n",
       "      <td>2</td>\n",
       "      <td>10</td>\n",
       "      <td>3</td>\n",
       "      <td>86</td>\n",
       "    </tr>\n",
       "  </tbody>\n",
       "</table>\n",
       "</div>"
      ],
      "text/plain": [
       "     Month  Python Worldwide(%)  JavaScript Worldwide(%)  Java Worldwide(%)  \\\n",
       "0  2004-01                   30                       98                 96   \n",
       "1  2004-02                   29                       98                 97   \n",
       "2  2004-03                   28                      100                100   \n",
       "3  2004-04                   28                       98                 97   \n",
       "4  2004-05                   28                       91                 99   \n",
       "\n",
       "   C# Worldwide(%)  PhP Worldwide(%)  Flutter Worldwide(%)  \\\n",
       "0               76               100                     6   \n",
       "1               86                99                     6   \n",
       "2               87                97                     5   \n",
       "3               89               100                     6   \n",
       "4               84                92                     6   \n",
       "\n",
       "   React Worldwide(%)  Swift Worldwide(%)  TypeScript Worldwide(%)  \\\n",
       "0                   1                   9                        2   \n",
       "1                   2                   9                        1   \n",
       "2                   2                   9                        2   \n",
       "3                   1                   9                        2   \n",
       "4                   2                  10                        3   \n",
       "\n",
       "   Matlab Worldwide(%)  \n",
       "0                   78  \n",
       "1                   91  \n",
       "2                   99  \n",
       "3                   95  \n",
       "4                   86  "
      ]
     },
     "execution_count": 9,
     "metadata": {},
     "output_type": "execute_result"
    }
   ],
   "source": [
    "df.head()"
   ]
  },
  {
   "cell_type": "markdown",
   "id": "e26a46d8-9666-43e4-9e12-f46f2770e2fe",
   "metadata": {},
   "source": [
    "## Show Rows And Columns of Dataset"
   ]
  },
  {
   "cell_type": "code",
   "execution_count": 10,
   "id": "fc186123-a322-47ce-b64b-9043059a269a",
   "metadata": {},
   "outputs": [
    {
     "data": {
      "text/plain": [
       "(249, 11)"
      ]
     },
     "execution_count": 10,
     "metadata": {},
     "output_type": "execute_result"
    }
   ],
   "source": [
    "df.shape"
   ]
  },
  {
   "cell_type": "markdown",
   "id": "d06b0921-1f91-4b51-9eab-2d25af7f7f8f",
   "metadata": {},
   "source": [
    "## Information about Dataset"
   ]
  },
  {
   "cell_type": "code",
   "execution_count": 11,
   "id": "d9e6d9f2-2167-40d5-878d-aeae76da2521",
   "metadata": {},
   "outputs": [
    {
     "name": "stdout",
     "output_type": "stream",
     "text": [
      "<class 'pandas.core.frame.DataFrame'>\n",
      "RangeIndex: 249 entries, 0 to 248\n",
      "Data columns (total 11 columns):\n",
      " #   Column                   Non-Null Count  Dtype \n",
      "---  ------                   --------------  ----- \n",
      " 0   Month                    249 non-null    object\n",
      " 1   Python Worldwide(%)      249 non-null    int64 \n",
      " 2   JavaScript Worldwide(%)  249 non-null    int64 \n",
      " 3   Java Worldwide(%)        249 non-null    int64 \n",
      " 4   C# Worldwide(%)          249 non-null    int64 \n",
      " 5   PhP Worldwide(%)         249 non-null    int64 \n",
      " 6   Flutter Worldwide(%)     249 non-null    int64 \n",
      " 7   React Worldwide(%)       249 non-null    int64 \n",
      " 8   Swift Worldwide(%)       249 non-null    int64 \n",
      " 9   TypeScript Worldwide(%)  249 non-null    int64 \n",
      " 10  Matlab Worldwide(%)      249 non-null    int64 \n",
      "dtypes: int64(10), object(1)\n",
      "memory usage: 21.5+ KB\n"
     ]
    }
   ],
   "source": [
    "df.info()"
   ]
  },
  {
   "cell_type": "markdown",
   "id": "fcced9b3-3c4c-4884-b0a1-84b9e5971a7a",
   "metadata": {},
   "source": [
    "## Show null values"
   ]
  },
  {
   "cell_type": "code",
   "execution_count": 12,
   "id": "32cf0a98-f295-4fb8-b169-a24e0f17c418",
   "metadata": {},
   "outputs": [
    {
     "data": {
      "text/html": [
       "<div>\n",
       "<style scoped>\n",
       "    .dataframe tbody tr th:only-of-type {\n",
       "        vertical-align: middle;\n",
       "    }\n",
       "\n",
       "    .dataframe tbody tr th {\n",
       "        vertical-align: top;\n",
       "    }\n",
       "\n",
       "    .dataframe thead th {\n",
       "        text-align: right;\n",
       "    }\n",
       "</style>\n",
       "<table border=\"1\" class=\"dataframe\">\n",
       "  <thead>\n",
       "    <tr style=\"text-align: right;\">\n",
       "      <th></th>\n",
       "      <th>Month</th>\n",
       "      <th>Python Worldwide(%)</th>\n",
       "      <th>JavaScript Worldwide(%)</th>\n",
       "      <th>Java Worldwide(%)</th>\n",
       "      <th>C# Worldwide(%)</th>\n",
       "      <th>PhP Worldwide(%)</th>\n",
       "      <th>Flutter Worldwide(%)</th>\n",
       "      <th>React Worldwide(%)</th>\n",
       "      <th>Swift Worldwide(%)</th>\n",
       "      <th>TypeScript Worldwide(%)</th>\n",
       "      <th>Matlab Worldwide(%)</th>\n",
       "    </tr>\n",
       "  </thead>\n",
       "  <tbody>\n",
       "    <tr>\n",
       "      <th>0</th>\n",
       "      <td>False</td>\n",
       "      <td>False</td>\n",
       "      <td>False</td>\n",
       "      <td>False</td>\n",
       "      <td>False</td>\n",
       "      <td>False</td>\n",
       "      <td>False</td>\n",
       "      <td>False</td>\n",
       "      <td>False</td>\n",
       "      <td>False</td>\n",
       "      <td>False</td>\n",
       "    </tr>\n",
       "    <tr>\n",
       "      <th>1</th>\n",
       "      <td>False</td>\n",
       "      <td>False</td>\n",
       "      <td>False</td>\n",
       "      <td>False</td>\n",
       "      <td>False</td>\n",
       "      <td>False</td>\n",
       "      <td>False</td>\n",
       "      <td>False</td>\n",
       "      <td>False</td>\n",
       "      <td>False</td>\n",
       "      <td>False</td>\n",
       "    </tr>\n",
       "    <tr>\n",
       "      <th>2</th>\n",
       "      <td>False</td>\n",
       "      <td>False</td>\n",
       "      <td>False</td>\n",
       "      <td>False</td>\n",
       "      <td>False</td>\n",
       "      <td>False</td>\n",
       "      <td>False</td>\n",
       "      <td>False</td>\n",
       "      <td>False</td>\n",
       "      <td>False</td>\n",
       "      <td>False</td>\n",
       "    </tr>\n",
       "    <tr>\n",
       "      <th>3</th>\n",
       "      <td>False</td>\n",
       "      <td>False</td>\n",
       "      <td>False</td>\n",
       "      <td>False</td>\n",
       "      <td>False</td>\n",
       "      <td>False</td>\n",
       "      <td>False</td>\n",
       "      <td>False</td>\n",
       "      <td>False</td>\n",
       "      <td>False</td>\n",
       "      <td>False</td>\n",
       "    </tr>\n",
       "    <tr>\n",
       "      <th>4</th>\n",
       "      <td>False</td>\n",
       "      <td>False</td>\n",
       "      <td>False</td>\n",
       "      <td>False</td>\n",
       "      <td>False</td>\n",
       "      <td>False</td>\n",
       "      <td>False</td>\n",
       "      <td>False</td>\n",
       "      <td>False</td>\n",
       "      <td>False</td>\n",
       "      <td>False</td>\n",
       "    </tr>\n",
       "    <tr>\n",
       "      <th>...</th>\n",
       "      <td>...</td>\n",
       "      <td>...</td>\n",
       "      <td>...</td>\n",
       "      <td>...</td>\n",
       "      <td>...</td>\n",
       "      <td>...</td>\n",
       "      <td>...</td>\n",
       "      <td>...</td>\n",
       "      <td>...</td>\n",
       "      <td>...</td>\n",
       "      <td>...</td>\n",
       "    </tr>\n",
       "    <tr>\n",
       "      <th>244</th>\n",
       "      <td>False</td>\n",
       "      <td>False</td>\n",
       "      <td>False</td>\n",
       "      <td>False</td>\n",
       "      <td>False</td>\n",
       "      <td>False</td>\n",
       "      <td>False</td>\n",
       "      <td>False</td>\n",
       "      <td>False</td>\n",
       "      <td>False</td>\n",
       "      <td>False</td>\n",
       "    </tr>\n",
       "    <tr>\n",
       "      <th>245</th>\n",
       "      <td>False</td>\n",
       "      <td>False</td>\n",
       "      <td>False</td>\n",
       "      <td>False</td>\n",
       "      <td>False</td>\n",
       "      <td>False</td>\n",
       "      <td>False</td>\n",
       "      <td>False</td>\n",
       "      <td>False</td>\n",
       "      <td>False</td>\n",
       "      <td>False</td>\n",
       "    </tr>\n",
       "    <tr>\n",
       "      <th>246</th>\n",
       "      <td>False</td>\n",
       "      <td>False</td>\n",
       "      <td>False</td>\n",
       "      <td>False</td>\n",
       "      <td>False</td>\n",
       "      <td>False</td>\n",
       "      <td>False</td>\n",
       "      <td>False</td>\n",
       "      <td>False</td>\n",
       "      <td>False</td>\n",
       "      <td>False</td>\n",
       "    </tr>\n",
       "    <tr>\n",
       "      <th>247</th>\n",
       "      <td>False</td>\n",
       "      <td>False</td>\n",
       "      <td>False</td>\n",
       "      <td>False</td>\n",
       "      <td>False</td>\n",
       "      <td>False</td>\n",
       "      <td>False</td>\n",
       "      <td>False</td>\n",
       "      <td>False</td>\n",
       "      <td>False</td>\n",
       "      <td>False</td>\n",
       "    </tr>\n",
       "    <tr>\n",
       "      <th>248</th>\n",
       "      <td>False</td>\n",
       "      <td>False</td>\n",
       "      <td>False</td>\n",
       "      <td>False</td>\n",
       "      <td>False</td>\n",
       "      <td>False</td>\n",
       "      <td>False</td>\n",
       "      <td>False</td>\n",
       "      <td>False</td>\n",
       "      <td>False</td>\n",
       "      <td>False</td>\n",
       "    </tr>\n",
       "  </tbody>\n",
       "</table>\n",
       "<p>249 rows × 11 columns</p>\n",
       "</div>"
      ],
      "text/plain": [
       "     Month  Python Worldwide(%)  JavaScript Worldwide(%)  Java Worldwide(%)  \\\n",
       "0    False                False                    False              False   \n",
       "1    False                False                    False              False   \n",
       "2    False                False                    False              False   \n",
       "3    False                False                    False              False   \n",
       "4    False                False                    False              False   \n",
       "..     ...                  ...                      ...                ...   \n",
       "244  False                False                    False              False   \n",
       "245  False                False                    False              False   \n",
       "246  False                False                    False              False   \n",
       "247  False                False                    False              False   \n",
       "248  False                False                    False              False   \n",
       "\n",
       "     C# Worldwide(%)  PhP Worldwide(%)  Flutter Worldwide(%)  \\\n",
       "0              False             False                 False   \n",
       "1              False             False                 False   \n",
       "2              False             False                 False   \n",
       "3              False             False                 False   \n",
       "4              False             False                 False   \n",
       "..               ...               ...                   ...   \n",
       "244            False             False                 False   \n",
       "245            False             False                 False   \n",
       "246            False             False                 False   \n",
       "247            False             False                 False   \n",
       "248            False             False                 False   \n",
       "\n",
       "     React Worldwide(%)  Swift Worldwide(%)  TypeScript Worldwide(%)  \\\n",
       "0                 False               False                    False   \n",
       "1                 False               False                    False   \n",
       "2                 False               False                    False   \n",
       "3                 False               False                    False   \n",
       "4                 False               False                    False   \n",
       "..                  ...                 ...                      ...   \n",
       "244               False               False                    False   \n",
       "245               False               False                    False   \n",
       "246               False               False                    False   \n",
       "247               False               False                    False   \n",
       "248               False               False                    False   \n",
       "\n",
       "     Matlab Worldwide(%)  \n",
       "0                  False  \n",
       "1                  False  \n",
       "2                  False  \n",
       "3                  False  \n",
       "4                  False  \n",
       "..                   ...  \n",
       "244                False  \n",
       "245                False  \n",
       "246                False  \n",
       "247                False  \n",
       "248                False  \n",
       "\n",
       "[249 rows x 11 columns]"
      ]
     },
     "execution_count": 12,
     "metadata": {},
     "output_type": "execute_result"
    }
   ],
   "source": [
    "df.isnull()"
   ]
  },
  {
   "cell_type": "markdown",
   "id": "d2c153ae-009e-41ce-8ac7-c44df3345338",
   "metadata": {},
   "source": [
    "## Using Two Functions"
   ]
  },
  {
   "cell_type": "code",
   "execution_count": 13,
   "id": "e802c82b-f085-4cbd-b1ef-b7f187a6b69d",
   "metadata": {},
   "outputs": [
    {
     "data": {
      "text/plain": [
       "Month                      0\n",
       "Python Worldwide(%)        0\n",
       "JavaScript Worldwide(%)    0\n",
       "Java Worldwide(%)          0\n",
       "C# Worldwide(%)            0\n",
       "PhP Worldwide(%)           0\n",
       "Flutter Worldwide(%)       0\n",
       "React Worldwide(%)         0\n",
       "Swift Worldwide(%)         0\n",
       "TypeScript Worldwide(%)    0\n",
       "Matlab Worldwide(%)        0\n",
       "dtype: int64"
      ]
     },
     "execution_count": 13,
     "metadata": {},
     "output_type": "execute_result"
    }
   ],
   "source": [
    "df.isnull().sum()"
   ]
  },
  {
   "cell_type": "markdown",
   "id": "b2108dbd-8a5a-4cb7-876a-f516c129ca4d",
   "metadata": {},
   "source": [
    "## Convert Object Types to Categories"
   ]
  },
  {
   "cell_type": "code",
   "execution_count": 14,
   "id": "9e3d22e0",
   "metadata": {},
   "outputs": [],
   "source": [
    "df['Month'] = df['Month'].astype('category')"
   ]
  },
  {
   "cell_type": "markdown",
   "id": "7e27dfcc-d2ce-40ca-9372-237275f36bfc",
   "metadata": {},
   "source": [
    "## Check Data Types"
   ]
  },
  {
   "cell_type": "code",
   "execution_count": 15,
   "id": "386bb2e4-d27f-4f5a-8c95-f39d4a713cfd",
   "metadata": {},
   "outputs": [
    {
     "name": "stdout",
     "output_type": "stream",
     "text": [
      "Month                      category\n",
      "Python Worldwide(%)           int64\n",
      "JavaScript Worldwide(%)       int64\n",
      "Java Worldwide(%)             int64\n",
      "C# Worldwide(%)               int64\n",
      "PhP Worldwide(%)              int64\n",
      "Flutter Worldwide(%)          int64\n",
      "React Worldwide(%)            int64\n",
      "Swift Worldwide(%)            int64\n",
      "TypeScript Worldwide(%)       int64\n",
      "Matlab Worldwide(%)           int64\n",
      "dtype: object\n"
     ]
    }
   ],
   "source": [
    "print(df.dtypes)"
   ]
  },
  {
   "cell_type": "markdown",
   "id": "b914cf9b-deaa-457f-8209-3d9d16cc42cf",
   "metadata": {},
   "source": [
    "## Describe Data (With Transpose)"
   ]
  },
  {
   "cell_type": "code",
   "execution_count": 16,
   "id": "666f37f6",
   "metadata": {},
   "outputs": [
    {
     "name": "stdout",
     "output_type": "stream",
     "text": [
      "                         count       mean        std   min   25%   50%   75%  \\\n",
      "Python Worldwide(%)      249.0  41.678715  23.103231  20.0  23.0  29.0  60.0   \n",
      "JavaScript Worldwide(%)  249.0  43.963855  16.024512  24.0  34.0  37.0  48.0   \n",
      "Java Worldwide(%)        249.0  35.995984  21.897948  11.0  17.0  34.0  45.0   \n",
      "C# Worldwide(%)          249.0  59.626506  20.330958  27.0  45.0  57.0  78.0   \n",
      "PhP Worldwide(%)         249.0  37.477912  22.997381  13.0  20.0  27.0  48.0   \n",
      "Flutter Worldwide(%)     249.0  22.642570  28.368911   4.0   6.0   8.0  32.0   \n",
      "React Worldwide(%)       249.0  25.883534  32.518210   1.0   1.0   2.0  50.0   \n",
      "Swift Worldwide(%)       249.0  30.678715  15.328697   8.0  23.0  29.0  37.0   \n",
      "TypeScript Worldwide(%)  249.0  23.405622  28.603098   1.0   3.0   4.0  38.0   \n",
      "Matlab Worldwide(%)      249.0  59.289157  13.282170  39.0  50.0  58.0  66.0   \n",
      "\n",
      "                           max  \n",
      "Python Worldwide(%)      100.0  \n",
      "JavaScript Worldwide(%)  100.0  \n",
      "Java Worldwide(%)        100.0  \n",
      "C# Worldwide(%)          100.0  \n",
      "PhP Worldwide(%)         100.0  \n",
      "Flutter Worldwide(%)     100.0  \n",
      "React Worldwide(%)       100.0  \n",
      "Swift Worldwide(%)       100.0  \n",
      "TypeScript Worldwide(%)  100.0  \n",
      "Matlab Worldwide(%)      100.0  \n"
     ]
    }
   ],
   "source": [
    "print(df.describe().T)"
   ]
  },
  {
   "cell_type": "markdown",
   "id": "98757199-32b7-46a7-b88a-1c9df9f8fac7",
   "metadata": {},
   "source": [
    "## Groupby Operation"
   ]
  },
  {
   "cell_type": "markdown",
   "id": "9b006b5f-13f0-4ebc-8a0c-169f1bd8c247",
   "metadata": {},
   "source": [
    "### Convert 'Python Worldwide(%)' to numeric, coercing errors"
   ]
  },
  {
   "cell_type": "code",
   "execution_count": 17,
   "id": "f2e97d8c-4ea1-45ec-bf4f-d4ec3b554971",
   "metadata": {},
   "outputs": [],
   "source": [
    "df['Python Worldwide(%)'] = pd.to_numeric(df['Python Worldwide(%)'], errors='coerce')"
   ]
  },
  {
   "cell_type": "markdown",
   "id": "2f5da139-942a-47f9-9bb5-b38867a65fa0",
   "metadata": {},
   "source": [
    "### Now perform the groupby operation and calculate the mean"
   ]
  },
  {
   "cell_type": "code",
   "execution_count": 18,
   "id": "413c234e",
   "metadata": {},
   "outputs": [
    {
     "name": "stdout",
     "output_type": "stream",
     "text": [
      "                     JavaScript Worldwide(%)  Java Worldwide(%)  \\\n",
      "Python Worldwide(%)                                               \n",
      "20                                 35.500000          33.500000   \n",
      "21                                 43.409091          42.227273   \n",
      "22                                 42.740741          42.333333   \n",
      "23                                 44.666667          45.809524   \n",
      "24                                 52.000000          52.076923   \n",
      "...                                      ...                ...   \n",
      "92                                 44.000000          17.000000   \n",
      "93                                 45.500000          17.500000   \n",
      "94                                 45.000000          17.000000   \n",
      "99                                 45.666667          17.000000   \n",
      "100                                47.000000          19.000000   \n",
      "\n",
      "                     C# Worldwide(%)  PhP Worldwide(%)  Flutter Worldwide(%)  \\\n",
      "Python Worldwide(%)                                                            \n",
      "20                         56.500000         36.500000              6.000000   \n",
      "21                         71.000000         44.318182              5.590909   \n",
      "22                         69.740741         44.037037              5.925926   \n",
      "23                         72.333333         46.190476              6.000000   \n",
      "24                         77.769231         53.769231              6.000000   \n",
      "...                              ...               ...                   ...   \n",
      "92                         40.000000         22.000000             88.000000   \n",
      "93                         41.500000         25.500000             90.000000   \n",
      "94                         39.000000         19.000000             82.000000   \n",
      "99                         41.333333         21.333333             92.000000   \n",
      "100                        45.000000         26.000000             94.000000   \n",
      "\n",
      "                     React Worldwide(%)  Swift Worldwide(%)  \\\n",
      "Python Worldwide(%)                                           \n",
      "20                             1.000000           25.500000   \n",
      "21                             1.000000           28.636364   \n",
      "22                             1.000000           27.703704   \n",
      "23                             1.047619           27.190476   \n",
      "24                             1.000000           21.615385   \n",
      "...                                 ...                 ...   \n",
      "92                            96.000000           29.000000   \n",
      "93                            88.500000           37.500000   \n",
      "94                            91.000000           42.000000   \n",
      "99                            95.666667           38.333333   \n",
      "100                           92.000000           29.000000   \n",
      "\n",
      "                     TypeScript Worldwide(%)  Matlab Worldwide(%)  \n",
      "Python Worldwide(%)                                                \n",
      "20                                  2.000000            46.000000  \n",
      "21                                  2.636364            53.545455  \n",
      "22                                  2.518519            57.185185  \n",
      "23                                  2.857143            55.095238  \n",
      "24                                  3.230769            58.692308  \n",
      "...                                      ...                  ...  \n",
      "92                                 81.000000            87.000000  \n",
      "93                                 84.500000            83.500000  \n",
      "94                                 86.000000            93.000000  \n",
      "99                                 94.333333            92.666667  \n",
      "100                                84.000000            88.000000  \n",
      "\n",
      "[68 rows x 9 columns]\n"
     ]
    }
   ],
   "source": [
    "grouped_data = df.groupby('Python Worldwide(%)').mean(numeric_only=True)\n",
    "print(grouped_data)"
   ]
  },
  {
   "cell_type": "markdown",
   "id": "30b4ac01-b63e-44d4-8f21-732d4ef9779d",
   "metadata": {},
   "source": [
    "## Check if a Value is Present"
   ]
  },
  {
   "cell_type": "code",
   "execution_count": 19,
   "id": "60b9268c",
   "metadata": {},
   "outputs": [
    {
     "name": "stdout",
     "output_type": "stream",
     "text": [
      "Is 100 present in PhP Worldwide(%): True\n"
     ]
    }
   ],
   "source": [
    "value_present = 100 in df['PhP Worldwide(%)'].values\n",
    "print(f\"Is 100 present in PhP Worldwide(%): {value_present}\")"
   ]
  },
  {
   "cell_type": "markdown",
   "id": "14965e29-a104-44f6-b207-7b355fc3fd50",
   "metadata": {},
   "source": [
    "## Access a Row by Index and Check Dependency"
   ]
  },
  {
   "cell_type": "code",
   "execution_count": 20,
   "id": "2f08e0ce",
   "metadata": {},
   "outputs": [
    {
     "name": "stdout",
     "output_type": "stream",
     "text": [
      "Month                      2004-11\n",
      "Python Worldwide(%)             26\n",
      "JavaScript Worldwide(%)         83\n",
      "Java Worldwide(%)               90\n",
      "C# Worldwide(%)                 89\n",
      "PhP Worldwide(%)                84\n",
      "Flutter Worldwide(%)             6\n",
      "React Worldwide(%)               2\n",
      "Swift Worldwide(%)              10\n",
      "TypeScript Worldwide(%)          2\n",
      "Matlab Worldwide(%)             92\n",
      "Name: 10, dtype: object\n"
     ]
    }
   ],
   "source": [
    "row_at_index = df.iloc[10]\n",
    "print(row_at_index)"
   ]
  },
  {
   "cell_type": "markdown",
   "id": "4d1fd506-fb6c-4750-abfb-62f3f5166a02",
   "metadata": {},
   "source": [
    "## Go to an index location and check whether a value is dependent or independent"
   ]
  },
  {
   "cell_type": "code",
   "execution_count": 21,
   "id": "1a3ef058-0aed-473f-99a7-54522dc32850",
   "metadata": {},
   "outputs": [
    {
     "data": {
      "text/plain": [
       "Month                      2004-06\n",
       "Python Worldwide(%)             27\n",
       "JavaScript Worldwide(%)         94\n",
       "Java Worldwide(%)               89\n",
       "C# Worldwide(%)                 97\n",
       "PhP Worldwide(%)                97\n",
       "Flutter Worldwide(%)             7\n",
       "React Worldwide(%)               5\n",
       "Swift Worldwide(%)               9\n",
       "TypeScript Worldwide(%)          2\n",
       "Matlab Worldwide(%)             87\n",
       "Name: 5, dtype: object"
      ]
     },
     "execution_count": 21,
     "metadata": {},
     "output_type": "execute_result"
    }
   ],
   "source": [
    "value_at_index = df.iloc[5]\n",
    "value_at_index"
   ]
  },
  {
   "cell_type": "code",
   "execution_count": 22,
   "id": "17bb3913-4e70-4926-b0a6-63ea17644363",
   "metadata": {},
   "outputs": [],
   "source": [
    "import matplotlib.pyplot as plt"
   ]
  },
  {
   "cell_type": "code",
   "execution_count": 23,
   "id": "e5fa853c-0c39-486a-b498-a55c112c1248",
   "metadata": {},
   "outputs": [],
   "source": [
    "import numpy as np"
   ]
  },
  {
   "cell_type": "code",
   "execution_count": 24,
   "id": "89c3363c-6d17-444f-ab5c-b516c1924be2",
   "metadata": {},
   "outputs": [],
   "source": [
    "xpoints = np.array([1,8])\n",
    "ypoints = np.array([3,10])"
   ]
  },
  {
   "cell_type": "code",
   "execution_count": 25,
   "id": "eacae1cb-bbed-486a-bb70-fb8f8f1037d7",
   "metadata": {},
   "outputs": [
    {
     "data": {
      "image/png": "[encoded data removed]",
      "text/plain": [
       "<Figure size 640x480 with 1 Axes>"
      ]
     },
     "metadata": {},
     "output_type": "display_data"
    }
   ],
   "source": [
    "plt.plot(xpoints, ypoints,'o')\n",
    "plt.show()"
   ]
  },
  {
   "cell_type": "code",
   "execution_count": 26,
   "id": "26150938-f3e8-49fa-a5a2-891261091dc4",
   "metadata": {},
   "outputs": [],
   "source": [
    "import pandas as pd\n",
    "from sklearn.linear_model import LinearRegression\n",
    "from pandas.core.common import random_state\n",
    "from sklearn.model_selection import train_test_split"
   ]
  },
  {
   "cell_type": "code",
   "execution_count": 27,
   "id": "ba3d16c7-b5f1-4105-955b-7c1520bd3b81",
   "metadata": {},
   "outputs": [],
   "source": [
    "x= df.iloc[:, :-1]\n",
    "y= df.iloc[:, 1]  "
   ]
  },
  {
   "cell_type": "code",
   "execution_count": 28,
   "id": "198c25f1-4a6e-409c-a9b4-45b25c9fc56e",
   "metadata": {},
   "outputs": [],
   "source": [
    "X = df[['Python Worldwide(%)', 'JavaScript Worldwide(%)']]  # Example features\n",
    "y = df['Java Worldwide(%)']  # Example target"
   ]
  },
  {
   "cell_type": "code",
   "execution_count": 34,
   "id": "6d2cc5ea-d37c-4ea9-9f08-21804770cfa8",
   "metadata": {},
   "outputs": [],
   "source": [
    "X_train, X_test, y_train, y_test = train_test_split(X, y, test_size=0.2, random_state=0)"
   ]
  },
  {
   "cell_type": "code",
   "execution_count": 30,
   "id": "fd3d7ddf-5fee-4313-bf0f-2564969be9ec",
   "metadata": {},
   "outputs": [],
   "source": [
    "model = LinearRegression()"
   ]
  },
  {
   "cell_type": "code",
   "execution_count": 35,
   "id": "15e216bc-2662-4ea3-84a4-df60822a1343",
   "metadata": {},
   "outputs": [
    {
     "data": {
      "text/html": [
       "<style>#sk-container-id-1 {\n",
       "  /* Definition of color scheme common for light and dark mode */\n",
       "  --sklearn-color-text: black;\n",
       "  --sklearn-color-line: gray;\n",
       "  /* Definition of color scheme for unfitted estimators */\n",
       "  --sklearn-color-unfitted-level-0: #fff5e6;\n",
       "  --sklearn-color-unfitted-level-1: #f6e4d2;\n",
       "  --sklearn-color-unfitted-level-2: #ffe0b3;\n",
       "  --sklearn-color-unfitted-level-3: chocolate;\n",
       "  /* Definition of color scheme for fitted estimators */\n",
       "  --sklearn-color-fitted-level-0: #f0f8ff;\n",
       "  --sklearn-color-fitted-level-1: #d4ebff;\n",
       "  --sklearn-color-fitted-level-2: #b3dbfd;\n",
       "  --sklearn-color-fitted-level-3: cornflowerblue;\n",
       "\n",
       "  /* Specific color for light theme */\n",
       "  --sklearn-color-text-on-default-background: var(--sg-text-color, var(--theme-code-foreground, var(--jp-content-font-color1, black)));\n",
       "  --sklearn-color-background: var(--sg-background-color, var(--theme-background, var(--jp-layout-color0, white)));\n",
       "  --sklearn-color-border-box: var(--sg-text-color, var(--theme-code-foreground, var(--jp-content-font-color1, black)));\n",
       "  --sklearn-color-icon: #696969;\n",
       "\n",
       "  @media (prefers-color-scheme: dark) {\n",
       "    /* Redefinition of color scheme for dark theme */\n",
       "    --sklearn-color-text-on-default-background: var(--sg-text-color, var(--theme-code-foreground, var(--jp-content-font-color1, white)));\n",
       "    --sklearn-color-background: var(--sg-background-color, var(--theme-background, var(--jp-layout-color0, #111)));\n",
       "    --sklearn-color-border-box: var(--sg-text-color, var(--theme-code-foreground, var(--jp-content-font-color1, white)));\n",
       "    --sklearn-color-icon: #878787;\n",
       "  }\n",
       "}\n",
       "\n",
       "#sk-container-id-1 {\n",
       "  color: var(--sklearn-color-text);\n",
       "}\n",
       "\n",
       "#sk-container-id-1 pre {\n",
       "  padding: 0;\n",
       "}\n",
       "\n",
       "#sk-container-id-1 input.sk-hidden--visually {\n",
       "  border: 0;\n",
       "  clip: rect(1px 1px 1px 1px);\n",
       "  clip: rect(1px, 1px, 1px, 1px);\n",
       "  height: 1px;\n",
       "  margin: -1px;\n",
       "  overflow: hidden;\n",
       "  padding: 0;\n",
       "  position: absolute;\n",
       "  width: 1px;\n",
       "}\n",
       "\n",
       "#sk-container-id-1 div.sk-dashed-wrapped {\n",
       "  border: 1px dashed var(--sklearn-color-line);\n",
       "  margin: 0 0.4em 0.5em 0.4em;\n",
       "  box-sizing: border-box;\n",
       "  padding-bottom: 0.4em;\n",
       "  background-color: var(--sklearn-color-background);\n",
       "}\n",
       "\n",
       "#sk-container-id-1 div.sk-container {\n",
       "  /* jupyter's `normalize.less` sets `[hidden] { display: none; }`\n",
       "     but bootstrap.min.css set `[hidden] { display: none !important; }`\n",
       "     so we also need the `!important` here to be able to override the\n",
       "     default hidden behavior on the sphinx rendered scikit-learn.org.\n",
       "     See: https://github.com/scikit-learn/scikit-learn/issues/21755 */\n",
       "  display: inline-block !important;\n",
       "  position: relative;\n",
       "}\n",
       "\n",
       "#sk-container-id-1 div.sk-text-repr-fallback {\n",
       "  display: none;\n",
       "}\n",
       "\n",
       "div.sk-parallel-item,\n",
       "div.sk-serial,\n",
       "div.sk-item {\n",
       "  /* draw centered vertical line to link estimators */\n",
       "  background-image: linear-gradient(var(--sklearn-color-text-on-default-background), var(--sklearn-color-text-on-default-background));\n",
       "  background-size: 2px 100%;\n",
       "  background-repeat: no-repeat;\n",
       "  background-position: center center;\n",
       "}\n",
       "\n",
       "/* Parallel-specific style estimator block */\n",
       "\n",
       "#sk-container-id-1 div.sk-parallel-item::after {\n",
       "  content: \"\";\n",
       "  width: 100%;\n",
       "  border-bottom: 2px solid var(--sklearn-color-text-on-default-background);\n",
       "  flex-grow: 1;\n",
       "}\n",
       "\n",
       "#sk-container-id-1 div.sk-parallel {\n",
       "  display: flex;\n",
       "  align-items: stretch;\n",
       "  justify-content: center;\n",
       "  background-color: var(--sklearn-color-background);\n",
       "  position: relative;\n",
       "}\n",
       "\n",
       "#sk-container-id-1 div.sk-parallel-item {\n",
       "  display: flex;\n",
       "  flex-direction: column;\n",
       "}\n",
       "\n",
       "#sk-container-id-1 div.sk-parallel-item:first-child::after {\n",
       "  align-self: flex-end;\n",
       "  width: 50%;\n",
       "}\n",
       "\n",
       "#sk-container-id-1 div.sk-parallel-item:last-child::after {\n",
       "  align-self: flex-start;\n",
       "  width: 50%;\n",
       "}\n",
       "\n",
       "#sk-container-id-1 div.sk-parallel-item:only-child::after {\n",
       "  width: 0;\n",
       "}\n",
       "\n",
       "/* Serial-specific style estimator block */\n",
       "\n",
       "#sk-container-id-1 div.sk-serial {\n",
       "  display: flex;\n",
       "  flex-direction: column;\n",
       "  align-items: center;\n",
       "  background-color: var(--sklearn-color-background);\n",
       "  padding-right: 1em;\n",
       "  padding-left: 1em;\n",
       "}\n",
       "\n",
       "\n",
       "/* Toggleable style: style used for estimator/Pipeline/ColumnTransformer box that is\n",
       "clickable and can be expanded/collapsed.\n",
       "- Pipeline and ColumnTransformer use this feature and define the default style\n",
       "- Estimators will overwrite some part of the style using the `sk-estimator` class\n",
       "*/\n",
       "\n",
       "/* Pipeline and ColumnTransformer style (default) */\n",
       "\n",
       "#sk-container-id-1 div.sk-toggleable {\n",
       "  /* Default theme specific background. It is overwritten whether we have a\n",
       "  specific estimator or a Pipeline/ColumnTransformer */\n",
       "  background-color: var(--sklearn-color-background);\n",
       "}\n",
       "\n",
       "/* Toggleable label */\n",
       "#sk-container-id-1 label.sk-toggleable__label {\n",
       "  cursor: pointer;\n",
       "  display: block;\n",
       "  width: 100%;\n",
       "  margin-bottom: 0;\n",
       "  padding: 0.5em;\n",
       "  box-sizing: border-box;\n",
       "  text-align: center;\n",
       "}\n",
       "\n",
       "#sk-container-id-1 label.sk-toggleable__label-arrow:before {\n",
       "  /* Arrow on the left of the label */\n",
       "  content: \"▸\";\n",
       "  float: left;\n",
       "  margin-right: 0.25em;\n",
       "  color: var(--sklearn-color-icon);\n",
       "}\n",
       "\n",
       "#sk-container-id-1 label.sk-toggleable__label-arrow:hover:before {\n",
       "  color: var(--sklearn-color-text);\n",
       "}\n",
       "\n",
       "/* Toggleable content - dropdown */\n",
       "\n",
       "#sk-container-id-1 div.sk-toggleable__content {\n",
       "  max-height: 0;\n",
       "  max-width: 0;\n",
       "  overflow: hidden;\n",
       "  text-align: left;\n",
       "  /* unfitted */\n",
       "  background-color: var(--sklearn-color-unfitted-level-0);\n",
       "}\n",
       "\n",
       "#sk-container-id-1 div.sk-toggleable__content.fitted {\n",
       "  /* fitted */\n",
       "  background-color: var(--sklearn-color-fitted-level-0);\n",
       "}\n",
       "\n",
       "#sk-container-id-1 div.sk-toggleable__content pre {\n",
       "  margin: 0.2em;\n",
       "  border-radius: 0.25em;\n",
       "  color: var(--sklearn-color-text);\n",
       "  /* unfitted */\n",
       "  background-color: var(--sklearn-color-unfitted-level-0);\n",
       "}\n",
       "\n",
       "#sk-container-id-1 div.sk-toggleable__content.fitted pre {\n",
       "  /* unfitted */\n",
       "  background-color: var(--sklearn-color-fitted-level-0);\n",
       "}\n",
       "\n",
       "#sk-container-id-1 input.sk-toggleable__control:checked~div.sk-toggleable__content {\n",
       "  /* Expand drop-down */\n",
       "  max-height: 200px;\n",
       "  max-width: 100%;\n",
       "  overflow: auto;\n",
       "}\n",
       "\n",
       "#sk-container-id-1 input.sk-toggleable__control:checked~label.sk-toggleable__label-arrow:before {\n",
       "  content: \"▾\";\n",
       "}\n",
       "\n",
       "/* Pipeline/ColumnTransformer-specific style */\n",
       "\n",
       "#sk-container-id-1 div.sk-label input.sk-toggleable__control:checked~label.sk-toggleable__label {\n",
       "  color: var(--sklearn-color-text);\n",
       "  background-color: var(--sklearn-color-unfitted-level-2);\n",
       "}\n",
       "\n",
       "#sk-container-id-1 div.sk-label.fitted input.sk-toggleable__control:checked~label.sk-toggleable__label {\n",
       "  background-color: var(--sklearn-color-fitted-level-2);\n",
       "}\n",
       "\n",
       "/* Estimator-specific style */\n",
       "\n",
       "/* Colorize estimator box */\n",
       "#sk-container-id-1 div.sk-estimator input.sk-toggleable__control:checked~label.sk-toggleable__label {\n",
       "  /* unfitted */\n",
       "  background-color: var(--sklearn-color-unfitted-level-2);\n",
       "}\n",
       "\n",
       "#sk-container-id-1 div.sk-estimator.fitted input.sk-toggleable__control:checked~label.sk-toggleable__label {\n",
       "  /* fitted */\n",
       "  background-color: var(--sklearn-color-fitted-level-2);\n",
       "}\n",
       "\n",
       "#sk-container-id-1 div.sk-label label.sk-toggleable__label,\n",
       "#sk-container-id-1 div.sk-label label {\n",
       "  /* The background is the default theme color */\n",
       "  color: var(--sklearn-color-text-on-default-background);\n",
       "}\n",
       "\n",
       "/* On hover, darken the color of the background */\n",
       "#sk-container-id-1 div.sk-label:hover label.sk-toggleable__label {\n",
       "  color: var(--sklearn-color-text);\n",
       "  background-color: var(--sklearn-color-unfitted-level-2);\n",
       "}\n",
       "\n",
       "/* Label box, darken color on hover, fitted */\n",
       "#sk-container-id-1 div.sk-label.fitted:hover label.sk-toggleable__label.fitted {\n",
       "  color: var(--sklearn-color-text);\n",
       "  background-color: var(--sklearn-color-fitted-level-2);\n",
       "}\n",
       "\n",
       "/* Estimator label */\n",
       "\n",
       "#sk-container-id-1 div.sk-label label {\n",
       "  font-family: monospace;\n",
       "  font-weight: bold;\n",
       "  display: inline-block;\n",
       "  line-height: 1.2em;\n",
       "}\n",
       "\n",
       "#sk-container-id-1 div.sk-label-container {\n",
       "  text-align: center;\n",
       "}\n",
       "\n",
       "/* Estimator-specific */\n",
       "#sk-container-id-1 div.sk-estimator {\n",
       "  font-family: monospace;\n",
       "  border: 1px dotted var(--sklearn-color-border-box);\n",
       "  border-radius: 0.25em;\n",
       "  box-sizing: border-box;\n",
       "  margin-bottom: 0.5em;\n",
       "  /* unfitted */\n",
       "  background-color: var(--sklearn-color-unfitted-level-0);\n",
       "}\n",
       "\n",
       "#sk-container-id-1 div.sk-estimator.fitted {\n",
       "  /* fitted */\n",
       "  background-color: var(--sklearn-color-fitted-level-0);\n",
       "}\n",
       "\n",
       "/* on hover */\n",
       "#sk-container-id-1 div.sk-estimator:hover {\n",
       "  /* unfitted */\n",
       "  background-color: var(--sklearn-color-unfitted-level-2);\n",
       "}\n",
       "\n",
       "#sk-container-id-1 div.sk-estimator.fitted:hover {\n",
       "  /* fitted */\n",
       "  background-color: var(--sklearn-color-fitted-level-2);\n",
       "}\n",
       "\n",
       "/* Specification for estimator info (e.g. \"i\" and \"?\") */\n",
       "\n",
       "/* Common style for \"i\" and \"?\" */\n",
       "\n",
       ".sk-estimator-doc-link,\n",
       "a:link.sk-estimator-doc-link,\n",
       "a:visited.sk-estimator-doc-link {\n",
       "  float: right;\n",
       "  font-size: smaller;\n",
       "  line-height: 1em;\n",
       "  font-family: monospace;\n",
       "  background-color: var(--sklearn-color-background);\n",
       "  border-radius: 1em;\n",
       "  height: 1em;\n",
       "  width: 1em;\n",
       "  text-decoration: none !important;\n",
       "  margin-left: 1ex;\n",
       "  /* unfitted */\n",
       "  border: var(--sklearn-color-unfitted-level-1) 1pt solid;\n",
       "  color: var(--sklearn-color-unfitted-level-1);\n",
       "}\n",
       "\n",
       ".sk-estimator-doc-link.fitted,\n",
       "a:link.sk-estimator-doc-link.fitted,\n",
       "a:visited.sk-estimator-doc-link.fitted {\n",
       "  /* fitted */\n",
       "  border: var(--sklearn-color-fitted-level-1) 1pt solid;\n",
       "  color: var(--sklearn-color-fitted-level-1);\n",
       "}\n",
       "\n",
       "/* On hover */\n",
       "div.sk-estimator:hover .sk-estimator-doc-link:hover,\n",
       ".sk-estimator-doc-link:hover,\n",
       "div.sk-label-container:hover .sk-estimator-doc-link:hover,\n",
       ".sk-estimator-doc-link:hover {\n",
       "  /* unfitted */\n",
       "  background-color: var(--sklearn-color-unfitted-level-3);\n",
       "  color: var(--sklearn-color-background);\n",
       "  text-decoration: none;\n",
       "}\n",
       "\n",
       "div.sk-estimator.fitted:hover .sk-estimator-doc-link.fitted:hover,\n",
       ".sk-estimator-doc-link.fitted:hover,\n",
       "div.sk-label-container:hover .sk-estimator-doc-link.fitted:hover,\n",
       ".sk-estimator-doc-link.fitted:hover {\n",
       "  /* fitted */\n",
       "  background-color: var(--sklearn-color-fitted-level-3);\n",
       "  color: var(--sklearn-color-background);\n",
       "  text-decoration: none;\n",
       "}\n",
       "\n",
       "/* Span, style for the box shown on hovering the info icon */\n",
       ".sk-estimator-doc-link span {\n",
       "  display: none;\n",
       "  z-index: 9999;\n",
       "  position: relative;\n",
       "  font-weight: normal;\n",
       "  right: .2ex;\n",
       "  padding: .5ex;\n",
       "  margin: .5ex;\n",
       "  width: min-content;\n",
       "  min-width: 20ex;\n",
       "  max-width: 50ex;\n",
       "  color: var(--sklearn-color-text);\n",
       "  box-shadow: 2pt 2pt 4pt #999;\n",
       "  /* unfitted */\n",
       "  background: var(--sklearn-color-unfitted-level-0);\n",
       "  border: .5pt solid var(--sklearn-color-unfitted-level-3);\n",
       "}\n",
       "\n",
       ".sk-estimator-doc-link.fitted span {\n",
       "  /* fitted */\n",
       "  background: var(--sklearn-color-fitted-level-0);\n",
       "  border: var(--sklearn-color-fitted-level-3);\n",
       "}\n",
       "\n",
       ".sk-estimator-doc-link:hover span {\n",
       "  display: block;\n",
       "}\n",
       "\n",
       "/* \"?\"-specific style due to the `<a>` HTML tag */\n",
       "\n",
       "#sk-container-id-1 a.estimator_doc_link {\n",
       "  float: right;\n",
       "  font-size: 1rem;\n",
       "  line-height: 1em;\n",
       "  font-family: monospace;\n",
       "  background-color: var(--sklearn-color-background);\n",
       "  border-radius: 1rem;\n",
       "  height: 1rem;\n",
       "  width: 1rem;\n",
       "  text-decoration: none;\n",
       "  /* unfitted */\n",
       "  color: var(--sklearn-color-unfitted-level-1);\n",
       "  border: var(--sklearn-color-unfitted-level-1) 1pt solid;\n",
       "}\n",
       "\n",
       "#sk-container-id-1 a.estimator_doc_link.fitted {\n",
       "  /* fitted */\n",
       "  border: var(--sklearn-color-fitted-level-1) 1pt solid;\n",
       "  color: var(--sklearn-color-fitted-level-1);\n",
       "}\n",
       "\n",
       "/* On hover */\n",
       "#sk-container-id-1 a.estimator_doc_link:hover {\n",
       "  /* unfitted */\n",
       "  background-color: var(--sklearn-color-unfitted-level-3);\n",
       "  color: var(--sklearn-color-background);\n",
       "  text-decoration: none;\n",
       "}\n",
       "\n",
       "#sk-container-id-1 a.estimator_doc_link.fitted:hover {\n",
       "  /* fitted */\n",
       "  background-color: var(--sklearn-color-fitted-level-3);\n",
       "}\n",
       "</style><div id=\"sk-container-id-1\" class=\"sk-top-container\"><div class=\"sk-text-repr-fallback\"><pre>LinearRegression()</pre><b>In a Jupyter environment, please rerun this cell to show the HTML representation or trust the notebook. <br />On GitHub, the HTML representation is unable to render, please try loading this page with nbviewer.org.</b></div><div class=\"sk-container\" hidden><div class=\"sk-item\"><div class=\"sk-estimator fitted sk-toggleable\"><input class=\"sk-toggleable__control sk-hidden--visually\" id=\"sk-estimator-id-1\" type=\"checkbox\" checked><label for=\"sk-estimator-id-1\" class=\"sk-toggleable__label fitted sk-toggleable__label-arrow fitted\">&nbsp;&nbsp;LinearRegression<a class=\"sk-estimator-doc-link fitted\" rel=\"noreferrer\" target=\"_blank\" href=\"https://scikit-learn.org/1.4/modules/generated/sklearn.linear_model.LinearRegression.html\">?<span>Documentation for LinearRegression</span></a><span class=\"sk-estimator-doc-link fitted\">i<span>Fitted</span></span></label><div class=\"sk-toggleable__content fitted\"><pre>LinearRegression()</pre></div> </div></div></div></div>"
      ],
      "text/plain": [
       "LinearRegression()"
      ]
     },
     "execution_count": 35,
     "metadata": {},
     "output_type": "execute_result"
    }
   ],
   "source": [
    "model.fit(X_train, y_train)"
   ]
  },
  {
   "cell_type": "code",
   "execution_count": 43,
   "id": "596fb0c8-b33c-4f81-9e49-050f6716d371",
   "metadata": {},
   "outputs": [],
   "source": [
    "y_pred = model.predict(X_test)"
   ]
  },
  {
   "cell_type": "code",
   "execution_count": 44,
   "id": "712d6311-1cbf-4c46-b3b3-986cd8aafebd",
   "metadata": {},
   "outputs": [],
   "source": [
    "X_test_single_feature = X_test.iloc[:, 0]"
   ]
  },
  {
   "cell_type": "code",
   "execution_count": 52,
   "id": "d5313f59-22f7-4d38-bce3-97ffe2efd97d",
   "metadata": {},
   "outputs": [
    {
     "data": {
      "image/png": "[encoded data removed]",
      "text/plain": [
       "<Figure size 640x480 with 1 Axes>"
      ]
     },
     "metadata": {},
     "output_type": "display_data"
    }
   ],
   "source": [
    "scatter_plot = plt.scatter(X_test_single_feature, y_test, color='b')"
   ]
  },
  {
   "cell_type": "code",
   "execution_count": 53,
   "id": "06de89e7-d558-4cfc-8b41-d866df7e9c73",
   "metadata": {},
   "outputs": [
    {
     "data": {
      "image/png": "[encoded data removed]",
      "text/plain": [
       "<Figure size 640x480 with 1 Axes>"
      ]
     },
     "metadata": {},
     "output_type": "display_data"
    }
   ],
   "source": [
    "line_plot, = plt.plot(X_test_single_feature, y_pred, color='r')"
   ]
  },
  {
   "cell_type": "code",
   "execution_count": 54,
   "id": "322ef0fd-30be-42b7-887e-38f0b7791085",
   "metadata": {},
   "outputs": [
    {
     "data": {
      "text/plain": [
       "Text(0.5, 1.0, 'Linear Regression')"
      ]
     },
     "execution_count": 54,
     "metadata": {},
     "output_type": "execute_result"
    },
    {
     "data": {
      "image/png": "[encoded data removed]",
      "text/plain": [
       "<Figure size 640x480 with 1 Axes>"
      ]
     },
     "metadata": {},
     "output_type": "display_data"
    }
   ],
   "source": [
    "plt.xlabel('First feature from X_test')\n",
    "plt.ylabel('y-axis')\n",
    "plt.title('Linear Regression')"
   ]
  },
  {
   "cell_type": "code",
   "execution_count": 55,
   "id": "1faf9e2d-38e2-4da7-80ec-9afe633ce48b",
   "metadata": {},
   "outputs": [
    {
     "data": {
      "text/plain": [
       "<matplotlib.legend.Legend at 0x2126c071c70>"
      ]
     },
     "execution_count": 55,
     "metadata": {},
     "output_type": "execute_result"
    },
    {
     "data": {
      "image/png": "[encoded data removed]",
      "text/plain": [
       "<Figure size 640x480 with 1 Axes>"
      ]
     },
     "metadata": {},
     "output_type": "display_data"
    }
   ],
   "source": [
    "plt.legend([scatter_plot, line_plot], ['Actual Data', 'Regression Line'])"
   ]
  },
  {
   "cell_type": "code",
   "execution_count": 56,
   "id": "bdcc4f0d-4660-4c8d-8c46-20e0716e44ab",
   "metadata": {},
   "outputs": [],
   "source": [
    "plt.show()"
   ]
  }
 ],
 "metadata": {
  "kernelspec": {
   "display_name": "Python 3 (ipykernel)",
   "language": "python",
   "name": "python3"
  },
  "language_info": {
   "codemirror_mode": {
    "name": "ipython",
    "version": 3
   },
   "file_extension": ".py",
   "mimetype": "text/x-python",
   "name": "python",
   "nbconvert_exporter": "python",
   "pygments_lexer": "ipython3",
   "version": "3.12.4"
  }
 },
 "nbformat": 4,
 "nbformat_minor": 5
}

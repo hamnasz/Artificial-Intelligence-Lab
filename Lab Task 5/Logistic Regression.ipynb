{
 "cells": [
  {
   "cell_type": "markdown",
   "id": "13232cf8-6de1-4b50-9e77-68fb84e0141b",
   "metadata": {},
   "source": [
    "# Import modules"
   ]
  },
  {
   "cell_type": "code",
   "execution_count": 26,
   "id": "e48f9f92-a19d-4024-9236-d01bbefa06ba",
   "metadata": {},
   "outputs": [],
   "source": [
    "import pandas as pd"
   ]
  },
  {
   "cell_type": "code",
   "execution_count": 27,
   "id": "d8c71c7d-b5bf-4d25-bdcb-7e71d6c1e7d4",
   "metadata": {},
   "outputs": [],
   "source": [
    "from sklearn.linear_model import LinearRegression"
   ]
  },
  {
   "cell_type": "code",
   "execution_count": 28,
   "id": "d2cb95a9-efec-44d8-bab8-ebb09717863e",
   "metadata": {},
   "outputs": [],
   "source": [
    "from sklearn.model_selection import train_test_split"
   ]
  },
  {
   "cell_type": "markdown",
   "id": "950d6773-6478-4827-be00-dcd7f2082c75",
   "metadata": {},
   "source": [
    "# Read the dataset"
   ]
  },
  {
   "cell_type": "code",
   "execution_count": 29,
   "id": "b512d4d0-3c3a-4a2a-9c38-ff093e9dbaf6",
   "metadata": {},
   "outputs": [],
   "source": [
    "df = pd.read_csv('data.csv')"
   ]
  },
  {
   "cell_type": "markdown",
   "id": "2342ed9f-9b77-4932-812f-7bfd57a64319",
   "metadata": {},
   "source": [
    "# Get the locations"
   ]
  },
  {
   "cell_type": "code",
   "execution_count": 30,
   "id": "9b4c8396-8fdf-4ba9-8595-af69215722be",
   "metadata": {},
   "outputs": [],
   "source": [
    "X = df.iloc[:, :-1]"
   ]
  },
  {
   "cell_type": "code",
   "execution_count": 31,
   "id": "aa5e5e96-9d2e-40de-bd1b-c1345dc651b0",
   "metadata": {},
   "outputs": [],
   "source": [
    "y = df.iloc[:, -1]"
   ]
  },
  {
   "cell_type": "markdown",
   "id": "1ff435de-2c0f-4222-9eca-f61fc94953a3",
   "metadata": {},
   "source": [
    "# Split the dataset"
   ]
  },
  {
   "cell_type": "code",
   "execution_count": 32,
   "id": "b635ee4f-fea6-4881-b7b6-a3d8ccf374f5",
   "metadata": {},
   "outputs": [],
   "source": [
    "X_train, X_test, y_train, y_test = train_test_split(\n",
    "    X, y, test_size=0.05, random_state=0)"
   ]
  }
 ],
 "metadata": {
  "kernelspec": {
   "display_name": "Python 3 (ipykernel)",
   "language": "python",
   "name": "python3"
  },
  "language_info": {
   "codemirror_mode": {
    "name": "ipython",
    "version": 3
   },
   "file_extension": ".py",
   "mimetype": "text/x-python",
   "name": "python",
   "nbconvert_exporter": "python",
   "pygments_lexer": "ipython3",
   "version": "3.12.4"
  }
 },
 "nbformat": 4,
 "nbformat_minor": 5
}
